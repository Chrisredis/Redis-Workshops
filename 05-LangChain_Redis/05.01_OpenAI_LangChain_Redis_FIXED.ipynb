{
 "cells": [
  {
   "cell_type": "markdown",
   "metadata": {
    "colab_type": "text",
    "id": "view-in-github"
   },
   "source": [
    "<a href=\"https://colab.research.google.com/github/Chrisredis/annaul_reports/blob/main/05-LangChain_Redis/05.01_OpenAI_LangChain_Redis.ipynb\" target=\"_parent\"><img src=\"https://colab.research.google.com/assets/colab-badge.svg\" alt=\"Open In Colab\"/></a>"
   ]
  },
  {
   "cell_type": "markdown",
   "metadata": {
    "id": "R2-i8jBl9GRH"
   },
   "source": [
    "# Document Question Answering with LangChain, OpenAI and Redis\n",
    "\n",
    "![Redis](https://redis.io/wp-content/uploads/2024/04/Logotype.svg?auto=webp&quality=85,75&width=120)\n",
    "\n",
    "This notebook would use OpenAI, Redis with Vector Similarity Search and LangChain to answer questions about the information contained in a document."
   ]
  },
  {
   "cell_type": "markdown",
   "metadata": {
    "id": "RZsd9twK9-sJ"
   },
   "source": [
    "### Install Dependencies\n"
   ]
  },
  {
   "cell_type": "code",
   "execution_count": 1,
   "metadata": {
    "id": "Rh7N5ej5QpEa"
   },
   "outputs": [
    {
     "name": "stdout",
     "output_type": "stream",
     "text": [
      "\n",
      "\u001b[1m[\u001b[0m\u001b[34;49mnotice\u001b[0m\u001b[1;39;49m]\u001b[0m\u001b[39;49m A new release of pip is available: \u001b[0m\u001b[31;49m24.0\u001b[0m\u001b[39;49m -> \u001b[0m\u001b[32;49m25.1.1\u001b[0m\n",
      "\u001b[1m[\u001b[0m\u001b[34;49mnotice\u001b[0m\u001b[1;39;49m]\u001b[0m\u001b[39;49m To update, run: \u001b[0m\u001b[32;49mpip install --upgrade pip\u001b[0m\n"
     ]
    }
   ],
   "source": [
    "# Update nltk version to latest. Must be the first cell to avoid restart\n",
    "!pip install --upgrade -q nltk"
   ]
  },
  {
   "cell_type": "code",
   "execution_count": 2,
   "metadata": {
    "colab": {
     "base_uri": "https://localhost:8080/"
    },
    "id": "C8uONNrVbe08",
    "outputId": "601a2c74-7068-4e67-8008-3484069e660f"
   },
   "outputs": [
    {
     "name": "stdout",
     "output_type": "stream",
     "text": [
      "zsh:1: 0.0.10 not found\n"
     ]
    }
   ],
   "source": [
    "!pip install -q redis langchain-community>=0.0.10 langchain-core langchain_openai unstructured"
   ]
  },
  {
   "cell_type": "markdown",
   "metadata": {
    "id": "NXTpvvXi_Lfe"
   },
   "source": [
    "## Initialize OpenAI\n",
    "\n",
    "You need to supply the OpenAI API key (starts with `sk-...`) when prompted. You can find your API key at https://platform.openai.com/account/api-keys"
   ]
  },
  {
   "cell_type": "code",
   "execution_count": 3,
   "metadata": {
    "colab": {
     "base_uri": "https://localhost:8080/"
    },
    "id": "JxPIg3nZyNp9",
    "outputId": "8f3f7502-2a1f-46d4-b6ff-d81facaa5383"
   },
   "outputs": [],
   "source": [
    "import os\n",
    "import getpass\n",
    "\n",
    "if \"OPENAI_API_KEY\" not in os.environ:\n",
    "    os.environ[\"OPENAI_API_KEY\"] = getpass.getpass(prompt='OpenAI Key: ')"
   ]
  },
  {
   "cell_type": "markdown",
   "metadata": {
    "id": "NBlbUrB27QQs"
   },
   "source": [
    "### Install Redis Stack\n",
    "\n",
    "Redis Search will be used as Vector Similarity Search engine for LangChain. Instead of using in-notebook Redis Stack https://redis.io/docs/getting-started/install-stack/ you can provision your own free instance of Redis in the cloud. Get your own Free Redis Cloud instance at https://redis.io/try-free/"
   ]
  },
  {
   "cell_type": "code",
   "execution_count": 4,
   "metadata": {
    "colab": {
     "base_uri": "https://localhost:8080/"
    },
    "id": "aKMKXPY2j8Gt",
    "outputId": "c1a61c5b-443f-4b44-df83-64e6d3d1fc5c"
   },
   "outputs": [
    {
     "name": "stderr",
     "output_type": "stream",
     "text": [
      "sudo: a terminal is required to read the password; either use the -S option to read from standard input or configure an askpass helper\n",
      "sudo: a password is required\n",
      "sh: line 2: lsb_release: command not found\n",
      "sudo: a terminal is required to read the password; either use the -S option to read from standard input or configure an askpass helper\n",
      "sudo: a password is required\n"
     ]
    },
    {
     "name": "stdout",
     "output_type": "stream",
     "text": [
      "Starting redis-stack-server, database path /opt/homebrew/var/db/redis-stack\n"
     ]
    }
   ],
   "source": [
    "%%sh\n",
    "curl -fsSL https://packages.redis.io/gpg | sudo gpg --dearmor -o /usr/share/keyrings/redis-archive-keyring.gpg\n",
    "echo \"deb [signed-by=/usr/share/keyrings/redis-archive-keyring.gpg] https://packages.redis.io/deb $(lsb_release -cs) main\" | sudo tee /etc/apt/sources.list.d/redis.list\n",
    "sudo apt-get update  > /dev/null 2>&1\n",
    "sudo apt-get install redis-stack-server  > /dev/null 2>&1\n",
    "redis-stack-server --daemonize yes"
   ]
  },
  {
   "cell_type": "markdown",
   "metadata": {
    "id": "X7UsU1Ts7TUL"
   },
   "source": [
    "### Connect to Redis\n",
    "\n",
    "By default this notebook would connect to the local instance of Redis Stack. If you have your own Redis Cloud instance - replace REDIS_PASSWORD, REDIS_HOST and REDIS_PORT values with your own."
   ]
  },
  {
   "cell_type": "code",
   "execution_count": 5,
   "id": "f2c2c8ae",
   "metadata": {},
   "outputs": [
    {
     "name": "stdout",
     "output_type": "stream",
     "text": [
      "Requirement already satisfied: redis in ./.venv/lib/python3.11/site-packages (5.3.0)\n",
      "Collecting redis\n",
      "  Using cached redis-6.2.0-py3-none-any.whl.metadata (10 kB)\n",
      "Requirement already satisfied: redisvl in ./.venv/lib/python3.11/site-packages (0.6.0)\n",
      "Requirement already satisfied: jsonpath-ng<2.0.0,>=1.5.0 in ./.venv/lib/python3.11/site-packages (from redisvl) (1.7.0)\n",
      "Requirement already satisfied: ml-dtypes<1.0.0,>=0.4.0 in ./.venv/lib/python3.11/site-packages (from redisvl) (0.5.1)\n",
      "Requirement already satisfied: numpy<2,>=1 in ./.venv/lib/python3.11/site-packages (from redisvl) (1.26.4)\n",
      "Requirement already satisfied: pydantic<3,>=2 in ./.venv/lib/python3.11/site-packages (from redisvl) (2.11.5)\n",
      "Requirement already satisfied: python-ulid<4.0.0,>=3.0.0 in ./.venv/lib/python3.11/site-packages (from redisvl) (3.0.0)\n",
      "Requirement already satisfied: pyyaml<7.0,>=5.4 in ./.venv/lib/python3.11/site-packages (from redisvl) (6.0.2)\n",
      "Requirement already satisfied: tenacity>=8.2.2 in ./.venv/lib/python3.11/site-packages (from redisvl) (9.1.2)\n",
      "Requirement already satisfied: PyJWT~=2.9.0 in ./.venv/lib/python3.11/site-packages (from redis) (2.9.0)\n",
      "Requirement already satisfied: ply in ./.venv/lib/python3.11/site-packages (from jsonpath-ng<2.0.0,>=1.5.0->redisvl) (3.11)\n",
      "Requirement already satisfied: annotated-types>=0.6.0 in ./.venv/lib/python3.11/site-packages (from pydantic<3,>=2->redisvl) (0.7.0)\n",
      "Requirement already satisfied: pydantic-core==2.33.2 in ./.venv/lib/python3.11/site-packages (from pydantic<3,>=2->redisvl) (2.33.2)\n",
      "Requirement already satisfied: typing-extensions>=4.12.2 in ./.venv/lib/python3.11/site-packages (from pydantic<3,>=2->redisvl) (4.13.2)\n",
      "Requirement already satisfied: typing-inspection>=0.4.0 in ./.venv/lib/python3.11/site-packages (from pydantic<3,>=2->redisvl) (0.4.1)\n",
      "\n",
      "\u001b[1m[\u001b[0m\u001b[34;49mnotice\u001b[0m\u001b[1;39;49m]\u001b[0m\u001b[39;49m A new release of pip is available: \u001b[0m\u001b[31;49m24.0\u001b[0m\u001b[39;49m -> \u001b[0m\u001b[32;49m25.1.1\u001b[0m\n",
      "\u001b[1m[\u001b[0m\u001b[34;49mnotice\u001b[0m\u001b[1;39;49m]\u001b[0m\u001b[39;49m To update, run: \u001b[0m\u001b[32;49mpip install --upgrade pip\u001b[0m\n"
     ]
    }
   ],
   "source": [
    "# Install necessary packages (run only once)\n",
    "!pip install --upgrade redis redisvl\n",
    "\n",
    "# No need for explicit schema classes in newer LangChain versions\n",
    "# The Redis vectorstore will handle schema creation automatically\n",
    "from langchain_community.vectorstores import Redis\n",
    "\n",
    "# OpenAI embeddings are 1536 dimensions - we'll use this when creating the vectorstore\n",
    "EMBEDDING_DIM = 1536  # OpenAI embedding dimension\n"
   ]
  },
  {
   "cell_type": "code",
   "execution_count": 6,
   "id": "c8785e16",
   "metadata": {},
   "outputs": [],
   "source": [
    "def get_vectorstore() -> Redis:\n",
    "    \"\"\"Create or load the Redis vectorstore.\"\"\"\n",
    "    try:\n",
    "        vectorstore = Redis.from_existing_index(\n",
    "            embedding=embeddings,\n",
    "            index_name=INDEX_NAME,\n",
    "            redis_url=REDIS_URL,\n",
    "            schema=schema\n",
    "        )\n",
    "        print(\"✅ Loaded existing Redis index.\")\n",
    "        return vectorstore\n",
    "    except Exception as e:\n",
    "        print(f\"⚠️ Failed to load existing index: {e}. Rebuilding...\")\n",
    "\n",
    "    # Create from documents\n",
    "    vectorstore = Redis.from_documents(\n",
    "        documents=texts,\n",
    "        embedding=embeddings,\n",
    "        index_name=INDEX_NAME,\n",
    "        redis_url=REDIS_URL\n",
    "    )\n",
    "    print(\"✅ Created new Redis index from documents.\")\n",
    "    return vectorstore\n"
   ]
  },
  {
   "cell_type": "code",
   "execution_count": 7,
   "metadata": {
    "colab": {
     "base_uri": "https://localhost:8080/"
    },
    "id": "dyPfCO3pkB7M",
    "outputId": "bcb4c4b3-3ef4-4278-9d9f-bc4d3b1550ce"
   },
   "outputs": [
    {
     "name": "stdout",
     "output_type": "stream",
     "text": [
      "Unrecognized option or bad number of args for: '-h localhost -p 6379'\n"
     ]
    }
   ],
   "source": [
    "import os\n",
    "\n",
    "REDIS_HOST = os.getenv(\"REDIS_HOST\", \"localhost\")\n",
    "REDIS_PORT = os.getenv(\"REDIS_PORT\", \"6379\")\n",
    "REDIS_PASSWORD = os.getenv(\"REDIS_PASSWORD\", \"\")\n",
    "#Replace values above with your own if using Redis Cloud instance\n",
    "#REDIS_HOST=\"redis-18374.c253.us-central1-1.gce.cloud.redislabs.com\"\n",
    "#REDIS_PORT=18374\n",
    "#REDIS_PASSWORD=\"1TNxTEdYRDgIDKM2gDfasupCADXXXX\"\n",
    "\n",
    "#shortcut for redis-cli $REDIS_CONN command\n",
    "# If SSL is enabled on the endpoint add --tls\n",
    "if REDIS_PASSWORD!=\"\":\n",
    "  os.environ[\"REDIS_CONN\"]=f\"-h {REDIS_HOST} -p {REDIS_PORT} -a {REDIS_PASSWORD} --no-auth-warning\"\n",
    "else:\n",
    "  os.environ[\"REDIS_CONN\"]=f\"-h {REDIS_HOST} -p {REDIS_PORT}\"\n",
    "\n",
    "# If SSL is enabled on the endpoint, use rediss:// as the URL prefix\n",
    "REDIS_URL = f\"redis://:{REDIS_PASSWORD}@{REDIS_HOST}:{REDIS_PORT}\"\n",
    "INDEX_NAME = f\"qna:idx\"\n",
    "\n",
    "# Test Redis connection\n",
    "!redis-cli $REDIS_CONN PING"
   ]
  },
  {
   "cell_type": "code",
   "execution_count": 8,
   "metadata": {
    "id": "_h1e-L9yZfaY"
   },
   "outputs": [],
   "source": [
    "import os\n",
    "import openai\n",
    "from langchain_openai import OpenAI, OpenAIEmbeddings\n",
    "from langchain.vectorstores.redis import Redis\n",
    "from langchain.text_splitter import RecursiveCharacterTextSplitter\n",
    "from langchain.document_loaders import UnstructuredURLLoader\n",
    "from langchain.chains import RetrievalQA"
   ]
  },
  {
   "cell_type": "markdown",
   "metadata": {
    "id": "KXDbABtw-vAQ"
   },
   "source": [
    "### Load text and split it into managable chunks\n",
    "\n",
    "Without this step any large body of text would exceed the limit of tokens you can feed to the LLM"
   ]
  },
  {
   "cell_type": "code",
   "execution_count": 9,
   "metadata": {
    "id": "9XL4P-k1d0Pi"
   },
   "outputs": [],
   "source": [
    "#!wget https://raw.githubusercontent.com/hwchase17/chat-your-data/master/state_of_the_union.txt"
   ]
  },
  {
   "cell_type": "code",
   "execution_count": 10,
   "metadata": {
    "id": "4zfOlQeeZjsN"
   },
   "outputs": [],
   "source": [
    "# Add your own URLs here\n",
    "urls = [\n",
    "    \"https://raw.githubusercontent.com/hwchase17/chat-your-data/master/state_of_the_union.txt\"\n",
    "]\n",
    "loader = UnstructuredURLLoader(urls=urls)\n",
    "documents = loader.load()\n",
    "text_splitter = RecursiveCharacterTextSplitter(chunk_size=1000, chunk_overlap=200, add_start_index = True)\n",
    "texts = text_splitter.split_documents(documents)\n",
    "# Optionally examine the result of text load+splitting\n",
    "#for text in texts:\n",
    "#  print(text)"
   ]
  },
  {
   "cell_type": "markdown",
   "metadata": {
    "id": "Dv1JVm31_OF9"
   },
   "source": [
    "### Initialize embeddings engine\n",
    "\n",
    "Using OpenAI Embeddings API."
   ]
  },
  {
   "cell_type": "code",
   "execution_count": 11,
   "metadata": {
    "id": "gaJrhuKa_Mwt"
   },
   "outputs": [],
   "source": [
    "embeddings = OpenAIEmbeddings()\n"
   ]
  },
  {
   "cell_type": "markdown",
   "metadata": {
    "id": "6zgvqB6wCJWK"
   },
   "source": [
    "### Initialize LLM\n",
    "\n",
    "In this notebook we are using OpenAI Chat GPT LLM."
   ]
  },
  {
   "cell_type": "code",
   "execution_count": 12,
   "metadata": {
    "id": "iQRyyWU0CNbJ"
   },
   "outputs": [],
   "source": [
    "llm = OpenAI()\n"
   ]
  },
  {
   "cell_type": "markdown",
   "metadata": {
    "id": "Qrj-jeGmBRTL"
   },
   "source": [
    "### Create vector store from the documents using Redis as Vector Database"
   ]
  },
  {
   "cell_type": "code",
   "execution_count": 13,
   "metadata": {
    "colab": {
     "base_uri": "https://localhost:8080/",
     "height": 599
    },
    "id": "yY69FViAjNv1",
    "outputId": "bbcf6db0-ad45-44c0-8770-79527d381d1c"
   },
   "outputs": [
    {
     "name": "stderr",
     "output_type": "stream",
     "text": [
      "WARNING:root:Failed to load existing Redis index: Redis.from_existing_index() missing 1 required positional argument: 'schema'. Rebuilding...\n"
     ]
    }
   ],
   "source": [
    "from langchain.vectorstores import Redis\n",
    "import logging\n",
    "\n",
    "def get_vectorstore() -> Redis:\n",
    "    \"\"\"Create or load the Redis vectorstore.\"\"\"\n",
    "\n",
    "    try:\n",
    "        vectorstore = Redis.from_existing_index(\n",
    "            embedding=embeddings,\n",
    "            index_name=INDEX_NAME,\n",
    "            redis_url=REDIS_URL\n",
    "        )\n",
    "        logging.info(\"Loaded existing Redis vectorstore.\")\n",
    "        return vectorstore\n",
    "    except Exception as e:\n",
    "        logging.warning(f\"Failed to load existing Redis index: {e}. Rebuilding...\")\n",
    "\n",
    "    # Fallback: create new index from documents\n",
    "    vectorstore = Redis.from_documents(\n",
    "        documents=texts,\n",
    "        embedding=embeddings,\n",
    "        index_name=INDEX_NAME,\n",
    "        redis_url=REDIS_URL\n",
    "    )\n",
    "    logging.info(\"Created new Redis vectorstore from documents.\")\n",
    "    return vectorstore\n",
    "\n",
    "# Initialize Redis vectorstore\n",
    "redis = get_vectorstore()\n"
   ]
  },
  {
   "cell_type": "markdown",
   "metadata": {
    "id": "XdzQa112Bf2b"
   },
   "source": [
    "## Specify the prompt template\n",
    "\n",
    "PromptTemplate defines the exect text of the response that would be fed to the LLM. This step is optional, but the defaults usually work well for OpenAI and might fall short for other models."
   ]
  },
  {
   "cell_type": "code",
   "execution_count": 14,
   "metadata": {
    "id": "yKKn2KKp3TQ4"
   },
   "outputs": [],
   "source": [
    "def get_prompt():\n",
    "    \"\"\"Create the QA chain.\"\"\"\n",
    "    from langchain.prompts import PromptTemplate\n",
    "    from langchain.chains import RetrievalQA\n",
    "\n",
    "    # Define our prompt\n",
    "    prompt_template = \"\"\"Use the following pieces of context to answer the question at the end. If you don't know the answer, say that you don't know, don't try to make up an answer.\n",
    "\n",
    "    This should be in the following format:\n",
    "\n",
    "    Question: [question here]\n",
    "    Answer: [answer here]\n",
    "\n",
    "    Begin!\n",
    "\n",
    "    Context:\n",
    "    ---------\n",
    "    {context}\n",
    "    ---------\n",
    "    Question: {question}\n",
    "    Answer:\"\"\"\n",
    "\n",
    "    prompt = PromptTemplate(\n",
    "        template=prompt_template,\n",
    "        input_variables=[\"context\", \"question\"]\n",
    "    )\n",
    "    return prompt"
   ]
  },
  {
   "cell_type": "markdown",
   "metadata": {
    "id": "xgEXBujxG1dO"
   },
   "source": [
    "### Putting it all together\n",
    "\n",
    "This is where the Langchain brings all the components together in a form of a simple QnA chain"
   ]
  },
  {
   "cell_type": "code",
   "execution_count": 15,
   "metadata": {
    "id": "RKNSP0zqZq98"
   },
   "outputs": [],
   "source": [
    "qa = RetrievalQA.from_chain_type(\n",
    "    llm=llm,\n",
    "    chain_type=\"stuff\",\n",
    "    retriever=redis.as_retriever(search_type=\"similarity_distance_threshold\",search_kwargs={\"distance_threshold\":0.5}),\n",
    "    #return_source_documents=True,\n",
    "    chain_type_kwargs={\"prompt\": get_prompt()},\n",
    "    #verbose=True\n",
    "    )"
   ]
  },
  {
   "cell_type": "markdown",
   "metadata": {
    "id": "-ox7LffJ8VNe"
   },
   "source": [
    "### Debugging Redis\n",
    "\n",
    "The code block below is example of how you can interact with the Redis Database"
   ]
  },
  {
   "cell_type": "code",
   "execution_count": 16,
   "metadata": {
    "id": "rGH8mdG2na0w"
   },
   "outputs": [],
   "source": [
    "#!redis-cli $REDIS_CONN keys \"*\"\n",
    "#!redis-cli $REDIS_CONN HGETALL \"doc:qna:idx:063955c855a7436fbf9829821332ed2a\"\n",
    "\n",
    "###-- FLUSHDB will wipe out the entire database!!! Use with caution --###\n",
    "#!redis-cli $REDIS_CONN flushdb\n"
   ]
  },
  {
   "cell_type": "markdown",
   "metadata": {
    "id": "SURTtVbYBFGc"
   },
   "source": [
    "## Finally - let's ask questions!\n",
    "\n",
    "Examples:\n",
    "- What did the president say about Ketanji Brown Jackson\n",
    "- Did he mention Stephen Breyer?\n",
    "- What was his stance on Ukraine"
   ]
  },
  {
   "cell_type": "code",
   "execution_count": 17,
   "metadata": {
    "id": "0JkswfOHZu9h"
   },
   "outputs": [
    {
     "data": {
      "text/plain": [
       "' She is a former top litigator in private practice, a former federal public defender, and from a family of public school educators and police officers.'"
      ]
     },
     "execution_count": 17,
     "metadata": {},
     "output_type": "execute_result"
    }
   ],
   "source": [
    "query = \"What did the president say about Ketanji Brown Jackson?\"\n",
    "res=qa.invoke(query)\n",
    "res['result']"
   ]
  }
 ],
 "metadata": {
  "colab": {
   "include_colab_link": true,
   "provenance": []
  },
  "kernelspec": {
   "display_name": ".venv",
   "language": "python",
   "name": "python3"
  },
  "language_info": {
   "codemirror_mode": {
    "name": "ipython",
    "version": 3
   },
   "file_extension": ".py",
   "mimetype": "text/x-python",
   "name": "python",
   "nbconvert_exporter": "python",
   "pygments_lexer": "ipython3",
   "version": "3.11.9"
  }
 },
 "nbformat": 4,
 "nbformat_minor": 0
}
