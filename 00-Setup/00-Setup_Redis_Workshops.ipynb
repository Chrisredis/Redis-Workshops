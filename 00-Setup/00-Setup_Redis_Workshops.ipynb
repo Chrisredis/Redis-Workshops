{
 "cells": [
  {
   "cell_type": "markdown",
   "metadata": {},
   "source": [
    "<a target=\"_blank\"  href=\"https://colab.research.google.com/github/Redislabs-Solution-Architects/Redis-Workshops/blob/main/00-Setup/00-Setup_Redis_Workshops.ipynb\"><img src=\"https://colab.research.google.com/assets/colab-badge.svg\" alt=\"Open In Colab\"/></a>"
   ]
  },
  {
   "cell_type": "markdown",
   "metadata": {
    "id": "MvZnhXr0L3K3"
   },
   "source": [
    "# Setup Redis Workshop\n",
    "\n",
    "![Redis](https://redis.io/wp-content/uploads/2024/04/Logotype.svg?auto=webp&quality=85,75&width=120)\n",
    "\n",
    "This notebook, as most of the notebooks in this series are designed to run either with build-in RedisStack or Redis Cloud.\n",
    "\n",
    "To provision free forever instance of Redis Cloud:\n",
    "- Head to https://redis.io/try-free/\n",
    "- Register with email/gmail\n",
    "- Create an **Essentials** subscription with 30MB free tier (no credit card required)\n",
    "- Create RedisStack Database"
   ]
  },
  {
   "cell_type": "code",
   "execution_count": 1,
   "metadata": {
    "colab": {
     "base_uri": "https://localhost:8080/"
    },
    "id": "maAiICvM-cTX",
    "outputId": "2cdd0c1b-339c-4c19-a171-3e2a15419520"
   },
   "outputs": [
    {
     "name": "stdout",
     "output_type": "stream",
     "text": [
      "\u001b[?25l   \u001b[90m\u2501\u2501\u2501\u2501\u2501\u2501\u2501\u2501\u2501\u2501\u2501\u2501\u2501\u2501\u2501\u2501\u2501\u2501\u2501\u2501\u2501\u2501\u2501\u2501\u2501\u2501\u2501\u2501\u2501\u2501\u2501\u2501\u2501\u2501\u2501\u2501\u2501\u2501\u2501\u2501\u001b[0m \u001b[32m0.0/261.3 kB\u001b[0m \u001b[31m?\u001b[0m eta \u001b[36m-:--:--\u001b[0m\r\u001b[2K   \u001b[91m\u2501\u2501\u2501\u2501\u2501\u2501\u2501\u2501\u2501\u2501\u2501\u2501\u2501\u2501\u2501\u2501\u2501\u2501\u2501\u2501\u2501\u2501\u2501\u2501\u2501\u2501\u2501\u2501\u2501\u2501\u2501\u2501\u2501\u2501\u2501\u2501\u2501\u2501\u2501\u001b[0m\u001b[90m\u257a\u001b[0m \u001b[32m256.0/261.3 kB\u001b[0m \u001b[31m8.0 MB/s\u001b[0m eta \u001b[36m0:00:01\u001b[0m\r\u001b[2K   \u001b[90m\u2501\u2501\u2501\u2501\u2501\u2501\u2501\u2501\u2501\u2501\u2501\u2501\u2501\u2501\u2501\u2501\u2501\u2501\u2501\u2501\u2501\u2501\u2501\u2501\u2501\u2501\u2501\u2501\u2501\u2501\u2501\u2501\u2501\u2501\u2501\u2501\u2501\u2501\u2501\u2501\u001b[0m \u001b[32m261.3/261.3 kB\u001b[0m \u001b[31m4.7 MB/s\u001b[0m eta \u001b[36m0:00:00\u001b[0m\n",
      "\u001b[?25h"
     ]
    }
   ],
   "source": [
    "# Install the requirements\n",
    "!pip install -q redis"
   ]
  },
  {
   "cell_type": "markdown",
   "metadata": {
    "id": "yO8o80_fM5cG"
   },
   "source": [
    "### Install Redis Stack locally (OPTIONAL)\n",
    "\n",
    "**NOTE: This step is OPTIONAL and commented out by default.**\n",
    "\n",
    "We're now using Redis Cloud by default for persistent data storage across all workshops.\n",
    "\n",
    "Uncomment the cell below only if you want to use a local Redis instance instead of Redis Cloud."
   ]
  },
  {
   "cell_type": "code",
   "execution_count": 2,
   "metadata": {
    "colab": {
     "base_uri": "https://localhost:8080/"
    },
    "id": "6CjMuWlOxYoZ",
    "outputId": "462c95ab-1cab-49ea-c00f-74c6b8a2664e"
   },
   "outputs": [
    {
     "name": "stdout",
     "output_type": "stream",
     "text": [
      "deb [signed-by=/usr/share/keyrings/redis-archive-keyring.gpg] https://packages.redis.io/deb jammy main\n",
      "Starting redis-stack-server, database path /var/lib/redis-stack\n"
     ]
    }
   ],
   "source": [
    "# COMMENTED OUT - Using Redis Cloud by default\n",
    "# Uncomment the lines below if you want to use local Redis instead\n",
    "\n",
    "# %%sh\n",
    "# curl -fsSL https://packages.redis.io/gpg | sudo gpg --dearmor -o /usr/share/keyrings/redis-archive-keyring.gpg\n",
    "# echo \"deb [signed-by=/usr/share/keyrings/redis-archive-keyring.gpg] https://packages.redis.io/deb $(lsb_release -cs) main\" | sudo tee /etc/apt/sources.list.d/redis.list\n",
    "# sudo apt-get update  > /dev/null 2>&1\n",
    "# sudo apt-get install redis-stack-server  > /dev/null 2>&1\n",
    "# redis-stack-server --daemonize yes\n",
    "\n",
    "print(\"✅ Using Redis Cloud - no local installation needed!\")\n"
   ]
  },
  {
   "cell_type": "markdown",
   "metadata": {
    "id": "pD9QIlpeKs3o"
   },
   "source": [
    "### Setup Redis Cloud Connection\n",
    "**Using Redis Cloud by default for persistent data storage across all workshops.**\n",
    "\n",
    "This provides:\n",
    "- ✅ Persistent data across sessions\n",
    "- ✅ Shared data between workshops\n",
    "- ✅ No local Redis setup required\n",
    "- ✅ 250MB storage capacity"
   ]
  },
  {
   "cell_type": "code",
   "execution_count": 3,
   "metadata": {
    "id": "x47s7mlR_zYB"
   },
   "outputs": [],
   "source": [
    "import os\n",
    "\n",
    "# Redis Cloud Configuration (Default)\n",
    "# This Redis Cloud instance provides persistent storage for all workshops\n",
    "REDIS_HOST = os.getenv(\"REDIS_HOST\", \"redis-15306.c329.us-east4-1.gce.redns.redis-cloud.com\")\n",
    "REDIS_PORT = os.getenv(\"REDIS_PORT\", \"15306\")\n",
    "REDIS_USERNAME = os.getenv(\"REDIS_USERNAME\", \"default\")\n",
    "REDIS_PASSWORD = os.getenv(\"REDIS_PASSWORD\", \"ftswOcgMB8dLCnjbKMMDBg3DNnpi1KO5\")\n",
    "\n",
    "# For local Redis (uncomment if needed):\n",
    "# REDIS_HOST = \"localhost\"\n",
    "# REDIS_PORT = \"6379\"\n",
    "# REDIS_PASSWORD = \"\"\n",
    "\n",
    "# Shortcut for redis-cli $REDIS_CONN command\n",
    "if REDIS_PASSWORD!=\"\":\n",
    "  os.environ[\"REDIS_CONN\"]=f\"-h {REDIS_HOST} -p {REDIS_PORT} -a {REDIS_PASSWORD} --no-auth-warning\"\n",
    "else:\n",
    "  os.environ[\"REDIS_CONN\"]=f\"-h {REDIS_HOST} -p {REDIS_PORT}\"\n",
    "\n",
    "# Redis URL for libraries that need it\n",
    "REDIS_URL = f\"redis://{REDIS_USERNAME}:{REDIS_PASSWORD}@{REDIS_HOST}:{REDIS_PORT}\"\n",
    "\n",
    "print(f\"🔗 Connecting to Redis Cloud: {REDIS_HOST}:{REDIS_PORT}\")\n"
   ]
  },
  {
   "cell_type": "markdown",
   "metadata": {
    "id": "Mnyz8NjaNz8T"
   },
   "source": [
    "### Basic Test with Redis CLI"
   ]
  },
  {
   "cell_type": "code",
   "execution_count": 4,
   "metadata": {
    "colab": {
     "base_uri": "https://localhost:8080/"
    },
    "id": "6FFP3eCRBTzk",
    "outputId": "0985f98b-8f89-4242-df12-2941b6f4abef"
   },
   "outputs": [
    {
     "name": "stdout",
     "output_type": "stream",
     "text": [
      "PONG\n",
      "OK\n",
      "\"world\"\n"
     ]
    }
   ],
   "source": [
    "!redis-cli $REDIS_CONN PING\n",
    "!redis-cli $REDIS_CONN SET hello world\n",
    "!redis-cli $REDIS_CONN GET hello"
   ]
  },
  {
   "cell_type": "markdown",
   "metadata": {
    "id": "CXEoNDpHN5WU"
   },
   "source": [
    "### Basic Test with Python client"
   ]
  },
  {
   "cell_type": "code",
   "execution_count": 5,
   "metadata": {
    "colab": {
     "base_uri": "https://localhost:8080/"
    },
    "id": "DbKb8mnWQO-5",
    "outputId": "a668a205-7c0c-4989-93ce-a9677e69e82c"
   },
   "outputs": [
    {
     "data": {
      "text/plain": [
       "b'world'"
      ]
     },
     "execution_count": 5,
     "metadata": {},
     "output_type": "execute_result"
    }
   ],
   "source": [
    "import redis\n",
    "\n",
    "r = redis.Redis(\n",
    "  host=REDIS_HOST,\n",
    "  port=REDIS_PORT,\n",
    "  password=REDIS_PASSWORD\n",
    ")\n",
    "\n",
    "r.get(\"hello\")"
   ]
  },
  {
   "cell_type": "markdown",
   "metadata": {
    "id": "zR1iwtIVPDQB"
   },
   "source": [
    "### TTL - Time To Live\n",
    "\n",
    "It's extremely important for caching systems to control for how long values will be stored. Redis allows you to control expiry with the EXPIRE command and with flags like EX, EXAT etc. For more information see https://redis.io/commands/expire/ and https://redis.io/commands/set/"
   ]
  },
  {
   "cell_type": "code",
   "execution_count": 6,
   "metadata": {
    "colab": {
     "base_uri": "https://localhost:8080/"
    },
    "id": "PlVwgknTODE1",
    "outputId": "bacad3a8-fe77-4d99-d57c-b0eae3ad6b5d"
   },
   "outputs": [
    {
     "name": "stdout",
     "output_type": "stream",
     "text": [
      "b'this key will expire soon'\n",
      "b'this key will expire soon'\n",
      "b'this key will expire soon'\n",
      "b'this key will expire soon'\n",
      "b'this key will expire soon'\n",
      "b'this key will expire soon'\n",
      "b'this key will expire soon'\n",
      "b'this key will expire soon'\n",
      "b'this key will expire soon'\n",
      "b'this key will expire soon'\n",
      "None\n",
      "None\n",
      "None\n",
      "None\n",
      "None\n"
     ]
    }
   ],
   "source": [
    "import time\n",
    "\n",
    "r.set(name=\"ttl_key\", value=\"this key will expire soon\", ex=10)\n",
    "\n",
    "for i in range(15):\n",
    "  print(r.get(name=\"ttl_key\"))\n",
    "  time.sleep(1)"
   ]
  },
  {
   "cell_type": "markdown",
   "metadata": {
    "id": "0e1zCC23FZyg"
   },
   "source": [
    "#### Cleanup\n",
    "(Optional) Delete all keys and indexes from the database."
   ]
  },
  {
   "cell_type": "code",
   "execution_count": 7,
   "metadata": {
    "id": "W4Ga4IjIFZyg"
   },
   "outputs": [],
   "source": [
    "###-- FLUSHDB will wipe out the entire database!!! Use with caution --###\n",
    "# !redis-cli $REDIS_CONN flushdb"
   ]
  }
 ],
 "metadata": {
  "colab": {
   "provenance": []
  },
  "kernelspec": {
   "display_name": "Python (.venv)",
   "language": "python",
   "name": ".venv"
  },
  "language_info": {
   "name": "python",
   "version": "3.9.6"
  }
 },
 "nbformat": 4,
 "nbformat_minor": 0
}