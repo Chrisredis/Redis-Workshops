{
 "cells": [
  {
   "cell_type": "markdown",
   "metadata": {},
   "source": [
    "<a href=\"https://colab.research.google.com/github/Redislabs-Solution-Architects/Redis-Workshops/blob/main/02-Vector_Similarity_Search/02.02_Redis_py.ipynb\" target=\"_parent\"><img src=\"https://colab.research.google.com/assets/colab-badge.svg\" alt=\"Open In Colab\"/></a>"
   ]
  },
  {
   "cell_type": "markdown",
   "metadata": {
    "id": "tRlp93K0C1q8"
   },
   "source": [
    "# Vector Similarity Search with Redis\n",
    "\n",
    "[Always-on demo](https://antonum-redis-vss-streamlit-streamlit-app-p4z5th.streamlit.app/)\n",
    "\n",
    "![Redis](https://redis.io/wp-content/uploads/2024/04/Logotype.svg?auto=webp&quality=85,75&width=120)\n",
    "\n",
    "This notebook generates vector embeddings using pre-trained `sentence-transformers/all-MiniLM-L6-v2` model from HuggingFace, loads them to Redis and runs Vector Similarity search against Redis database."
   ]
  },
  {
   "cell_type": "code",
   "execution_count": 22,
   "metadata": {
    "colab": {
     "base_uri": "https://localhost:8080/"
    },
    "id": "H-9YfABV3_1z",
    "outputId": "f0f46529-1f6f-42b2-c89c-ce02571faed9"
   },
   "outputs": [
    {
     "name": "stderr",
     "output_type": "stream",
     "text": [
      "huggingface/tokenizers: The current process just got forked, after parallelism has already been used. Disabling parallelism to avoid deadlocks...\n",
      "To disable this warning, you can either:\n",
      "\t- Avoid using `tokenizers` before the fork if possible\n",
      "\t- Explicitly set the environment variable TOKENIZERS_PARALLELISM=(true | false)\n"
     ]
    }
   ],
   "source": [
    "#install Redis client and Hugging Face sentence transformers\n",
    "!pip install -q redis sentence_transformers"
   ]
  },
  {
   "cell_type": "markdown",
   "metadata": {
    "id": "8Nkcsc8ceWpS"
   },
   "source": [
    "Install Redis Stack locally"
   ]
  },
  {
   "cell_type": "code",
   "execution_count": 23,
   "metadata": {
    "colab": {
     "base_uri": "https://localhost:8080/"
    },
    "id": "nofqstGujZSE",
    "outputId": "0a9ca2aa-ed71-4c9d-c14c-02663f430e34"
   },
   "outputs": [
    {
     "name": "stderr",
     "output_type": "stream",
     "text": [
      "huggingface/tokenizers: The current process just got forked, after parallelism has already been used. Disabling parallelism to avoid deadlocks...\n",
      "To disable this warning, you can either:\n",
      "\t- Avoid using `tokenizers` before the fork if possible\n",
      "\t- Explicitly set the environment variable TOKENIZERS_PARALLELISM=(true | false)\n",
      "sudo: a terminal is required to read the password; either use the -S option to read from standard input or configure an askpass helper\n",
      "sudo: a password is required\n",
      "sh: line 2: lsb_release: command not found\n",
      "sudo: a terminal is required to read the password; either use the -S option to read from standard input or configure an askpass helper\n",
      "sudo: a password is required\n"
     ]
    },
    {
     "name": "stdout",
     "output_type": "stream",
     "text": [
      "Starting redis-stack-server, database path /opt/homebrew/var/db/redis-stack\n"
     ]
    }
   ],
   "source": [
    "%%sh\n",
    "curl -fsSL https://packages.redis.io/gpg | sudo gpg --dearmor -o /usr/share/keyrings/redis-archive-keyring.gpg\n",
    "echo \"deb [signed-by=/usr/share/keyrings/redis-archive-keyring.gpg] https://packages.redis.io/deb $(lsb_release -cs) main\" | sudo tee /etc/apt/sources.list.d/redis.list\n",
    "sudo apt-get update  > /dev/null 2>&1\n",
    "sudo apt-get install redis-stack-server  > /dev/null 2>&1\n",
    "redis-stack-server --daemonize yes\n"
   ]
  },
  {
   "cell_type": "markdown",
   "metadata": {
    "id": "YhS6htjOCxr_"
   },
   "source": [
    "### Connect to the Redis server"
   ]
  },
  {
   "cell_type": "code",
   "execution_count": 24,
   "metadata": {
    "colab": {
     "base_uri": "https://localhost:8080/"
    },
    "id": "2UxA0cSkBYgo",
    "outputId": "2c758ae1-b9a3-4e06-becf-ba28653e5cf7"
   },
   "outputs": [
    {
     "name": "stderr",
     "output_type": "stream",
     "text": [
      "huggingface/tokenizers: The current process just got forked, after parallelism has already been used. Disabling parallelism to avoid deadlocks...\n",
      "To disable this warning, you can either:\n",
      "\t- Avoid using `tokenizers` before the fork if possible\n",
      "\t- Explicitly set the environment variable TOKENIZERS_PARALLELISM=(true | false)\n"
     ]
    },
    {
     "name": "stdout",
     "output_type": "stream",
     "text": [
      "Unrecognized option or bad number of args for: '-h localhost -p 6379'\n"
     ]
    }
   ],
   "source": [
    "import os\n",
    "\n",
    "REDIS_HOST = os.getenv(\"REDIS_HOST\", \"localhost\")\n",
    "REDIS_PORT = os.getenv(\"REDIS_PORT\", \"6379\")\n",
    "REDIS_PASSWORD = os.getenv(\"REDIS_PASSWORD\", \"\")\n",
    "#Replace values above with your own if using Redis Cloud instance\n",
    "#REDIS_HOST=\"redis-18374.c253.us-central1-1.gce.cloud.redislabs.com\"\n",
    "#REDIS_PORT=18374\n",
    "#REDIS_PASSWORD=\"1TNxTEdYRDgIDKM2gDfasupCADXXXX\"\n",
    "\n",
    "#shortcut for redis-cli $REDIS_CONN command\n",
    "# If SSL is enabled on the endpoint add --tls\n",
    "if REDIS_PASSWORD!=\"\":\n",
    "  os.environ[\"REDIS_CONN\"]=f\"-h {REDIS_HOST} -p {REDIS_PORT} -a {REDIS_PASSWORD} --no-auth-warning\"\n",
    "else:\n",
    "  os.environ[\"REDIS_CONN\"]=f\"-h {REDIS_HOST} -p {REDIS_PORT}\"\n",
    "\n",
    "# If SSL is enabled on the endpoint, use rediss:// as the URL prefix\n",
    "REDIS_URL = f\"redis://:{REDIS_PASSWORD}@{REDIS_HOST}:{REDIS_PORT}\"\n",
    "INDEX_NAME = f\"qna:idx\"\n",
    "\n",
    "# Test Redis connection\n",
    "!redis-cli $REDIS_CONN PING"
   ]
  },
  {
   "cell_type": "code",
   "execution_count": 25,
   "metadata": {
    "colab": {
     "base_uri": "https://localhost:8080/"
    },
    "id": "vABwS0skH0zm",
    "outputId": "56ba3902-e5f8-4796-aa3f-ad00c0fef0a0"
   },
   "outputs": [
    {
     "data": {
      "text/plain": [
       "True"
      ]
     },
     "execution_count": 25,
     "metadata": {},
     "output_type": "execute_result"
    }
   ],
   "source": [
    "import redis\n",
    "redis = redis.Redis(\n",
    "  host=REDIS_HOST,\n",
    "  port=REDIS_PORT,\n",
    "  password=REDIS_PASSWORD)\n",
    "redis.ping()"
   ]
  },
  {
   "cell_type": "code",
   "execution_count": 26,
   "metadata": {
    "colab": {
     "base_uri": "https://localhost:8080/"
    },
    "id": "OsJLTPAb36Z3",
    "outputId": "37b5036f-febf-4d52-e5fd-7f4ba98159df"
   },
   "outputs": [],
   "source": [
    "import pandas as pd\n",
    "import numpy as np\n",
    "from sentence_transformers import SentenceTransformer\n",
    "from tqdm import tqdm\n",
    "from redis import Redis\n",
    "from redis.commands.search.field import (\n",
    "    NumericField,\n",
    "    TagField,\n",
    "    TextField,\n",
    "    VectorField,\n",
    ")\n",
    "from redis.commands.search.indexDefinition import IndexDefinition, IndexType\n",
    "from redis.commands.search.query import Query\n",
    "\n",
    "\n",
    "tqdm.pandas()\n",
    "\n"
   ]
  },
  {
   "cell_type": "markdown",
   "metadata": {
    "id": "Gz5QOrxWCFd8"
   },
   "source": [
    "### Embedding generation model\n",
    "\n",
    "Here we are using `sentence-transformers/all-MiniLM-L6-v2` from HuggingFace. https://huggingface.co/sentence-transformers/all-MiniLM-L6-v2\n",
    "\n"
   ]
  },
  {
   "cell_type": "code",
   "execution_count": 27,
   "metadata": {
    "colab": {
     "base_uri": "https://localhost:8080/",
     "height": 528,
     "referenced_widgets": [
      "218342e48277497c9c28e6331afe9aa4",
      "24c6338fc53c4668a6d96ff03e32d275",
      "12eafa0b0849451aab731d9b62db3f11",
      "5d6834d7ed794afa8571da52ccbbffe4",
      "fe4bff1a709f4f8b9b83635c081d647f",
      "b3878e0a6a8a4538843df8675385e953",
      "38ab03bd3cc946bbb024105a932a4f74",
      "118b0e2c179448e580c43422084cc051",
      "de936986bd1949e9b6ddd19aed8852cb",
      "81d9f13fa33d444887f7b016a2917122",
      "95960d765d6349c79baf3a4f1458914b",
      "a2666ce4ca1549fab55ec5580285ac16",
      "7f637595b0804b979eff64c7cf900ddc",
      "a8751cd0c1cc49cea076d7f79f3e13b8",
      "7dea702455ac4473a618c781674fb584",
      "edcbc6a1ec50431bbf67b95a6e697769",
      "f6002363e24948e9a8cb0c235e8870bf",
      "285194833faf47df9447821f9b90eca0",
      "4a964041496b4e9abbc5e4c17d3a06a8",
      "d7c6ad2bd14f401baa02c4be12a58de5",
      "81dc779a94504465992c1917955d22e9",
      "da1b14968db1425a91b24420824b99dd",
      "383e433a0c864dd9b81e5c334ee8c2d0",
      "0ce744928c73436b9507135fb1bed80d",
      "396a0208180a4c4290f2b344b7171f89",
      "999e0b45d1c1460d947ba111dac685c3",
      "3094dc1d4bfa4fac8e5efdf20bef7366",
      "ef32034c515e440484f7d602e844c9bc",
      "a007156bdfbb4036a5ba2742d77c3984",
      "220c7313cb31466389ffc52cfd19bb75",
      "1e1c1ad9735944e4a52fc848503477f9",
      "d58629ed034e424c9cae557368b2d56d",
      "3204bd2ca8014ee18b594d9cf4d20620",
      "d0ba4b3f9b684090b9235c6c92b8dd01",
      "9e193248d69c45d7bf4bb51f18f0efdc",
      "447d9f9b250a49c5b6ea2c4ceb375641",
      "c9df610d58514820a80b9f3077871c65",
      "1ea7e10c89f8412494ea5d4f70c8979d",
      "a48bd15213db4b0198f950f6a1613f5b",
      "9a94edd7c8da4b6c9d917f695fc88f76",
      "2caa5237d87e4c209e58ca36d83f2ef0",
      "689c57c4f0fc4ee5b027399ac5c38a58",
      "13fc1f31dd464f21b01f20f854eb238f",
      "e6bafe9f4e71416cbf561b257e8ef9e8",
      "edbf8a7dc0e542b687a25cb1a3ad577d",
      "3d2967857ab046a9bd9724274795414a",
      "4ff7b79f72db49eabb09ca10323c849d",
      "03c8a01890724504b12c2cc9174772f9",
      "b49be69886ea4d81990760ed52bf96af",
      "6a6c2393f5914e04aea2cf6fbdc052a2",
      "83a4fcb369bd498cac7f84325db31fcf",
      "77586b8db2f943779dd5ea27511a5b5f",
      "8bca3b0ce2e94f0b8d54e7a775e7104f",
      "6d77d6de938d43d2bb185cd4e21c6f79",
      "dfc7916b934742b48898435c305cc689",
      "1e8e91a4ee3a4926b0afb11fd3770f3e",
      "e561f50fb03f4cb7bbd3e9f8d36fa798",
      "e5599bd43a0b45a7ac8eba322506d807",
      "835932c03dd148d19ef06669cbbbd49f",
      "593533f74366422a916d016bb43e08a7",
      "7f3f0a5f7aa142feba04ff18e8e686a0",
      "09726580817a401c9f6350c3e24c426e",
      "3e1e0d48e337435aaeb0963addf0c88c",
      "268869bfcd394a1b869cb3949cafe59b",
      "9bc887074c5749eba6b00e4a824d9f56",
      "13ce243d31d94701baf5de7facb9cc4e",
      "f30c343048de4f24afb15fc7bae99ea4",
      "332090e4870e47c897b5a4f2e921756d",
      "43d586df1fd646c5b903abe787f96379",
      "fb9a5e4a7de447f6a1d1d64254bd36f3",
      "ffa02ce786084cd3aa8bddcac0e36e0a",
      "9482a5eeb898416b9d4f4dbdb3cad04f",
      "2bb715ca3daa4ee8ad96de8ff80af258",
      "7f57a1c1cc5b4baba0038479e4f6d647",
      "229f1f246e4e4780a98dd9039fa67e6a",
      "7517940ed0484ce2942a008837013ce6",
      "7b37ceea7d7b4da79fb875860f9a85a5",
      "a25da1fdc81345a8b80920432eebdc42",
      "0407c1ea1589450e89b1dc6480cc2e5f",
      "03a34d3568a2445299ed40ed94886914",
      "5a750394b25b415f83523d6614742f79",
      "d1b158afca0749799570830206787f0f",
      "5b18efb0f7e64f759ca539b342dfa5fe",
      "d33f2dafa259430a925f51e67e738d35",
      "0cdc0ef26cf5466fad9e2c5981a0e5bc",
      "35da1fce554e4a31bb760a984028c95a",
      "1ffd5e84a82a4dc18a9f8a5ad279ce60",
      "c1729d8718c347be8b9acee88909108d",
      "c5a440b6db6f47cca3db317bb9fbe812",
      "3f8a282cda194b7492e1296bd56803f6",
      "f6a5d4ae75964c6394af398da86eeff4",
      "89860c67204c445cb87c83919370ede8",
      "4acc2a7cb85a4a2cae68c46c714cd9c2",
      "2795c58765404756bdfa6f4a2dc2d1a9",
      "dccc6cb2da1a4f478b562d7faa5e2b42",
      "4672fbe4ceca4432826a6747c7f7acaa",
      "5b6bc16ca5e64501933d69ba277f8ee5",
      "0e31130ce70b4c4998ba42760ecad6bc",
      "e9af214e6ddf46818d046712c5ceb683",
      "51cb47e8080f4a50a123932bd349bed1",
      "055a0eff72eb4ec384f8e7d98ccf55cc",
      "a49140ea5b5a425e99f5bffb14518894",
      "1ad37b87dc6249b6a6b4e38eda2add84",
      "1fb36f8bd91c42ae891af9fa57a49f2c",
      "f37471557f4148d18e0fc824228707fc",
      "3cd7557fd20348d3afc82f8ff3fc5b32",
      "7a0805abe8d643e898abe5f2e3d9b82b",
      "8e19714ebf974f218e07f0b9f9b62bdd",
      "fcd05e26e91548c4b983d85d79ee9ad9",
      "559e47c0e7e94e31a75139e98f1bbd37",
      "3ed353f990784202b4c27d2c080eeda1",
      "aa30d71e86ca489b8717756ab6aac54b",
      "dad4ab25c5b4451c8ec7e16ef7a0750d",
      "d4a1b75521904d0798a373b1678ffa12",
      "12911f0fc30d4fa9a8d9ed3937c673de",
      "e824a1878b7f47cfb92ea80d33f8b6f7",
      "497fd83fb9914f0db3f4c4732853bec1",
      "b8e5ff23a75a43deb0094d45bdaedf0a",
      "9af7a664eaf64c1d890e97d98dd84a89",
      "2e8ecb4bd72f486ba7d616cfc3d65f54",
      "4c6d2b5011e64a5a91fe2a2649fec6a3"
     ]
    },
    "id": "QEXNz8-TCEfA",
    "outputId": "97e41fc0-7fc8-4f4e-e4eb-f4416fe1751d"
   },
   "outputs": [],
   "source": [
    "model = SentenceTransformer('sentence-transformers/all-MiniLM-L6-v2')"
   ]
  },
  {
   "cell_type": "markdown",
   "metadata": {
    "id": "hJBWKmOykJRT"
   },
   "source": [
    "Download 12k+ tweets"
   ]
  },
  {
   "cell_type": "code",
   "execution_count": 28,
   "metadata": {
    "colab": {
     "base_uri": "https://localhost:8080/"
    },
    "id": "Yw4PTJI_Hsdn",
    "outputId": "9752d4e5-e203-4eac-dcf4-760eb2dc47a2"
   },
   "outputs": [
    {
     "name": "stderr",
     "output_type": "stream",
     "text": [
      "huggingface/tokenizers: The current process just got forked, after parallelism has already been used. Disabling parallelism to avoid deadlocks...\n",
      "To disable this warning, you can either:\n",
      "\t- Avoid using `tokenizers` before the fork if possible\n",
      "\t- Explicitly set the environment variable TOKENIZERS_PARALLELISM=(true | false)\n"
     ]
    },
    {
     "name": "stdout",
     "output_type": "stream",
     "text": [
      "--2025-06-02 20:37:40--  https://raw.githubusercontent.com/antonum/Redis-VSS-Streamlit/main/Labelled_Tweets.csv\n",
      "Resolving raw.githubusercontent.com (raw.githubusercontent.com)... 185.199.109.133, 185.199.110.133, 185.199.111.133, ...\n",
      "Connecting to raw.githubusercontent.com (raw.githubusercontent.com)|185.199.109.133|:443... connected.\n",
      "HTTP request sent, awaiting response... 200 OK\n",
      "Length: 2486081 (2.4M) [text/plain]\n",
      "Saving to: \u2018Labelled_Tweets.csv.1\u2019\n",
      "\n",
      "Labelled_Tweets.csv 100%[===================>]   2.37M  12.1MB/s    in 0.2s    \n",
      "\n",
      "2025-06-02 20:37:40 (12.1 MB/s) - \u2018Labelled_Tweets.csv.1\u2019 saved [2486081/2486081]\n",
      "\n"
     ]
    }
   ],
   "source": [
    "!wget https://raw.githubusercontent.com/antonum/Redis-VSS-Streamlit/main/Labelled_Tweets.csv"
   ]
  },
  {
   "cell_type": "code",
   "execution_count": 29,
   "metadata": {
    "colab": {
     "base_uri": "https://localhost:8080/",
     "height": 423
    },
    "id": "EFy8uuJH6nh3",
    "outputId": "ec90c004-7862-48b4-f71c-12e4580dec17"
   },
   "outputs": [
    {
     "data": {
      "text/html": [
       "<div>\n",
       "<style scoped>\n",
       "    .dataframe tbody tr th:only-of-type {\n",
       "        vertical-align: middle;\n",
       "    }\n",
       "\n",
       "    .dataframe tbody tr th {\n",
       "        vertical-align: top;\n",
       "    }\n",
       "\n",
       "    .dataframe thead th {\n",
       "        text-align: right;\n",
       "    }\n",
       "</style>\n",
       "<table border=\"1\" class=\"dataframe\">\n",
       "  <thead>\n",
       "    <tr style=\"text-align: right;\">\n",
       "      <th></th>\n",
       "      <th>id</th>\n",
       "      <th>full_text</th>\n",
       "    </tr>\n",
       "  </thead>\n",
       "  <tbody>\n",
       "    <tr>\n",
       "      <th>0</th>\n",
       "      <td>1</td>\n",
       "      <td>@KennyDegu very very little volume. With $10T ...</td>\n",
       "    </tr>\n",
       "    <tr>\n",
       "      <th>1</th>\n",
       "      <td>2</td>\n",
       "      <td>#ES_F achieved Target 2780 closing above 50% #...</td>\n",
       "    </tr>\n",
       "    <tr>\n",
       "      <th>2</th>\n",
       "      <td>3</td>\n",
       "      <td>RT @KimbleCharting: Silver/Gold indicator crea...</td>\n",
       "    </tr>\n",
       "    <tr>\n",
       "      <th>3</th>\n",
       "      <td>4</td>\n",
       "      <td>@Issaquahfunds Hedged our $MSFT position into ...</td>\n",
       "    </tr>\n",
       "    <tr>\n",
       "      <th>4</th>\n",
       "      <td>5</td>\n",
       "      <td>RT @zipillinois: 3 Surprisingly Controversial ...</td>\n",
       "    </tr>\n",
       "    <tr>\n",
       "      <th>...</th>\n",
       "      <td>...</td>\n",
       "      <td>...</td>\n",
       "    </tr>\n",
       "    <tr>\n",
       "      <th>12415</th>\n",
       "      <td>12587</td>\n",
       "      <td>RT @PeterLBrandt: $SPX $ES_F \\r\\nFollowing thi...</td>\n",
       "    </tr>\n",
       "    <tr>\n",
       "      <th>12416</th>\n",
       "      <td>12588</td>\n",
       "      <td>RT @vieiraUAE: Fearless Alex Vieira Calls Best...</td>\n",
       "    </tr>\n",
       "    <tr>\n",
       "      <th>12417</th>\n",
       "      <td>12589</td>\n",
       "      <td>$spy $spx $qqq $ndx #nyse going from poking th...</td>\n",
       "    </tr>\n",
       "    <tr>\n",
       "      <th>12418</th>\n",
       "      <td>12590</td>\n",
       "      <td>RT @DavidScottAdams: On watch tomorrow // Pt. ...</td>\n",
       "    </tr>\n",
       "    <tr>\n",
       "      <th>12419</th>\n",
       "      <td>12591</td>\n",
       "      <td>Should You Buy Stocks Now or Wait? Here's Buff...</td>\n",
       "    </tr>\n",
       "  </tbody>\n",
       "</table>\n",
       "<p>12420 rows \u00d7 2 columns</p>\n",
       "</div>"
      ],
      "text/plain": [
       "          id                                          full_text\n",
       "0          1  @KennyDegu very very little volume. With $10T ...\n",
       "1          2  #ES_F achieved Target 2780 closing above 50% #...\n",
       "2          3  RT @KimbleCharting: Silver/Gold indicator crea...\n",
       "3          4  @Issaquahfunds Hedged our $MSFT position into ...\n",
       "4          5  RT @zipillinois: 3 Surprisingly Controversial ...\n",
       "...      ...                                                ...\n",
       "12415  12587  RT @PeterLBrandt: $SPX $ES_F \\r\\nFollowing thi...\n",
       "12416  12588  RT @vieiraUAE: Fearless Alex Vieira Calls Best...\n",
       "12417  12589  $spy $spx $qqq $ndx #nyse going from poking th...\n",
       "12418  12590  RT @DavidScottAdams: On watch tomorrow // Pt. ...\n",
       "12419  12591  Should You Buy Stocks Now or Wait? Here's Buff...\n",
       "\n",
       "[12420 rows x 2 columns]"
      ]
     },
     "execution_count": 29,
     "metadata": {},
     "output_type": "execute_result"
    }
   ],
   "source": [
    "df = pd.read_csv('Labelled_Tweets.csv').drop(columns=['created_at','score'])\n",
    "#df=df.head(3000) #trim dataframe to fit results into 30MB Redis database\n",
    "df\n"
   ]
  },
  {
   "cell_type": "markdown",
   "metadata": {
    "id": "xTslHIdJkZJh"
   },
   "source": [
    "### Generate Embeddings\n",
    "\n",
    "Generate vector embeddings within the dataframe. This step can take 2-3 minutes (unoptimized version) and 10 seconds (optimized version) on GPU runtime for all 12k records."
   ]
  },
  {
   "cell_type": "code",
   "execution_count": 30,
   "metadata": {
    "colab": {
     "base_uri": "https://localhost:8080/",
     "height": 629,
     "referenced_widgets": [
      "fe45038f9a314ebba10af3f34e461cbe",
      "50debb0159a14405b46287810a92ba83",
      "f8ad0b40220b4c8abca0ee1faf070fb2",
      "e42ccd3d0f574d88b9b091ac00f369fb",
      "90747099d9834f6cbab93f09acb4348a",
      "7e8cf96c91674a06a7e2eddc00ebc50c",
      "37bbadaff70b42158e0be6b12b3344d1",
      "076285afaf584077b2294edcc80e8be2",
      "3c3e534dfca940c8b72ac7d4432c9fa5",
      "e4b4aee0d9814df58942f3648eabc006",
      "2d89bdf539284d5ca0a707d537b34238"
     ]
    },
    "id": "hr4O80YemL_z",
    "outputId": "9751a628-15ee-4f6f-d984-a20f480b9b64"
   },
   "outputs": [
    {
     "name": "stderr",
     "output_type": "stream",
     "text": [
      "Batches: 100%|\u2588\u2588\u2588\u2588\u2588\u2588\u2588\u2588\u2588\u2588| 389/389 [00:27<00:00, 14.13it/s]\n"
     ]
    },
    {
     "data": {
      "text/html": [
       "<div>\n",
       "<style scoped>\n",
       "    .dataframe tbody tr th:only-of-type {\n",
       "        vertical-align: middle;\n",
       "    }\n",
       "\n",
       "    .dataframe tbody tr th {\n",
       "        vertical-align: top;\n",
       "    }\n",
       "\n",
       "    .dataframe thead th {\n",
       "        text-align: right;\n",
       "    }\n",
       "</style>\n",
       "<table border=\"1\" class=\"dataframe\">\n",
       "  <thead>\n",
       "    <tr style=\"text-align: right;\">\n",
       "      <th></th>\n",
       "      <th>id</th>\n",
       "      <th>full_text</th>\n",
       "      <th>text_embedding</th>\n",
       "    </tr>\n",
       "  </thead>\n",
       "  <tbody>\n",
       "    <tr>\n",
       "      <th>0</th>\n",
       "      <td>1</td>\n",
       "      <td>@KennyDegu very very little volume. With $10T ...</td>\n",
       "      <td>b'\\'\\x92\\x81\\xbd\\x16h\\x8b\\xbdi\\xdf\\xe4\\xbc\\xd0...</td>\n",
       "    </tr>\n",
       "    <tr>\n",
       "      <th>1</th>\n",
       "      <td>2</td>\n",
       "      <td>#ES_F achieved Target 2780 closing above 50% #...</td>\n",
       "      <td>b']\\x1b\\x02\\xbd\\x1c~/\\xbd|z\\xb1\\xbcD\\x99\\xd1\\x...</td>\n",
       "    </tr>\n",
       "    <tr>\n",
       "      <th>2</th>\n",
       "      <td>3</td>\n",
       "      <td>RT @KimbleCharting: Silver/Gold indicator crea...</td>\n",
       "      <td>b'\\x10\\xaa\\xa3\\xbdg}\\x10\\xbd\\xc6\\xe8\\xb9=%\\x08...</td>\n",
       "    </tr>\n",
       "    <tr>\n",
       "      <th>3</th>\n",
       "      <td>4</td>\n",
       "      <td>@Issaquahfunds Hedged our $MSFT position into ...</td>\n",
       "      <td>b'\\xd8\\x7f\\xd1\\xbc\\xc3\\n`\\xbd79 =\\xe2\\xc0\\xef=...</td>\n",
       "    </tr>\n",
       "    <tr>\n",
       "      <th>4</th>\n",
       "      <td>5</td>\n",
       "      <td>RT @zipillinois: 3 Surprisingly Controversial ...</td>\n",
       "      <td>b'\\xcc\\r\\x1e\\xbdH\\\\\\xd4\\xbcL/\\xa1\\xbc\\xe4q7=\\x...</td>\n",
       "    </tr>\n",
       "    <tr>\n",
       "      <th>...</th>\n",
       "      <td>...</td>\n",
       "      <td>...</td>\n",
       "      <td>...</td>\n",
       "    </tr>\n",
       "    <tr>\n",
       "      <th>12415</th>\n",
       "      <td>12587</td>\n",
       "      <td>RT @PeterLBrandt: $SPX $ES_F \\r\\nFollowing thi...</td>\n",
       "      <td>b'\\xa9x\\x87\\xbb\\x03Y\\x802\\xf8\\x01*\\xbd\\xf6\\x9e...</td>\n",
       "    </tr>\n",
       "    <tr>\n",
       "      <th>12416</th>\n",
       "      <td>12588</td>\n",
       "      <td>RT @vieiraUAE: Fearless Alex Vieira Calls Best...</td>\n",
       "      <td>b'K\\xeb&gt;&lt;\\xaf\\xf7\\x97=\\xdb\\xe3\\x12\\xbd\\x83\\xac...</td>\n",
       "    </tr>\n",
       "    <tr>\n",
       "      <th>12417</th>\n",
       "      <td>12589</td>\n",
       "      <td>$spy $spx $qqq $ndx #nyse going from poking th...</td>\n",
       "      <td>b'\\x19\\xef\\xa1\\xbd!\\xf8\\x8e\\xbdU_\\xa6=\\x1a\\x0c...</td>\n",
       "    </tr>\n",
       "    <tr>\n",
       "      <th>12418</th>\n",
       "      <td>12590</td>\n",
       "      <td>RT @DavidScottAdams: On watch tomorrow // Pt. ...</td>\n",
       "      <td>b'\\xb4\\xba\\xb1\\xbd_-)=\\xc7\\xb5}\\xbc\\x19\\x1eK=?...</td>\n",
       "    </tr>\n",
       "    <tr>\n",
       "      <th>12419</th>\n",
       "      <td>12591</td>\n",
       "      <td>Should You Buy Stocks Now or Wait? Here's Buff...</td>\n",
       "      <td>b'\\xca\\x84\\x06\\xbd\\xdb\\x05$\\xbd)\\xb4\\xe7\\xbc~\\...</td>\n",
       "    </tr>\n",
       "  </tbody>\n",
       "</table>\n",
       "<p>12420 rows \u00d7 3 columns</p>\n",
       "</div>"
      ],
      "text/plain": [
       "          id                                          full_text  \\\n",
       "0          1  @KennyDegu very very little volume. With $10T ...   \n",
       "1          2  #ES_F achieved Target 2780 closing above 50% #...   \n",
       "2          3  RT @KimbleCharting: Silver/Gold indicator crea...   \n",
       "3          4  @Issaquahfunds Hedged our $MSFT position into ...   \n",
       "4          5  RT @zipillinois: 3 Surprisingly Controversial ...   \n",
       "...      ...                                                ...   \n",
       "12415  12587  RT @PeterLBrandt: $SPX $ES_F \\r\\nFollowing thi...   \n",
       "12416  12588  RT @vieiraUAE: Fearless Alex Vieira Calls Best...   \n",
       "12417  12589  $spy $spx $qqq $ndx #nyse going from poking th...   \n",
       "12418  12590  RT @DavidScottAdams: On watch tomorrow // Pt. ...   \n",
       "12419  12591  Should You Buy Stocks Now or Wait? Here's Buff...   \n",
       "\n",
       "                                          text_embedding  \n",
       "0      b'\\'\\x92\\x81\\xbd\\x16h\\x8b\\xbdi\\xdf\\xe4\\xbc\\xd0...  \n",
       "1      b']\\x1b\\x02\\xbd\\x1c~/\\xbd|z\\xb1\\xbcD\\x99\\xd1\\x...  \n",
       "2      b'\\x10\\xaa\\xa3\\xbdg}\\x10\\xbd\\xc6\\xe8\\xb9=%\\x08...  \n",
       "3      b'\\xd8\\x7f\\xd1\\xbc\\xc3\\n`\\xbd79 =\\xe2\\xc0\\xef=...  \n",
       "4      b'\\xcc\\r\\x1e\\xbdH\\\\\\xd4\\xbcL/\\xa1\\xbc\\xe4q7=\\x...  \n",
       "...                                                  ...  \n",
       "12415  b'\\xa9x\\x87\\xbb\\x03Y\\x802\\xf8\\x01*\\xbd\\xf6\\x9e...  \n",
       "12416  b'K\\xeb><\\xaf\\xf7\\x97=\\xdb\\xe3\\x12\\xbd\\x83\\xac...  \n",
       "12417  b'\\x19\\xef\\xa1\\xbd!\\xf8\\x8e\\xbdU_\\xa6=\\x1a\\x0c...  \n",
       "12418  b'\\xb4\\xba\\xb1\\xbd_-)=\\xc7\\xb5}\\xbc\\x19\\x1eK=?...  \n",
       "12419  b'\\xca\\x84\\x06\\xbd\\xdb\\x05$\\xbd)\\xb4\\xe7\\xbc~\\...  \n",
       "\n",
       "[12420 rows x 3 columns]"
      ]
     },
     "execution_count": 30,
     "metadata": {},
     "output_type": "execute_result"
    }
   ],
   "source": [
    "# Unoptimized version, processing one embedding at a time\n",
    "#def text_to_embedding(text):\n",
    "#  return model.encode(text).astype(np.float32).tobytes()\n",
    "\n",
    "# Optimized version with for parallel processing\n",
    "def texts_to_embeddings(texts):\n",
    "  return [np.array(embedding, dtype=np.float32).tobytes() for embedding in model.encode(texts, show_progress_bar=True)]\n",
    "\n",
    "\n",
    "#generate vector embeddings\n",
    "#df[\"text_embedding\"] = df[\"full_text\"].progress_apply(text_to_embedding)\n",
    "df[\"text_embedding\"] = texts_to_embeddings(df[\"full_text\"].tolist())\n",
    "df"
   ]
  },
  {
   "cell_type": "markdown",
   "metadata": {
    "id": "E101rw12ksSa"
   },
   "source": [
    "### Create Helper Functions\n",
    "\n",
    "- Save dataframe to Redis HASH\n",
    "- Create RediSearch Index"
   ]
  },
  {
   "cell_type": "code",
   "execution_count": 31,
   "metadata": {
    "id": "HIzOD70FQOPt"
   },
   "outputs": [],
   "source": [
    "def load_dataframe(redis, df, key_prefix=\"tweet\", id_column=\"id\", pipe_size=100):\n",
    "    records = df.to_dict(orient=\"records\")\n",
    "    pipe = redis.pipeline(transaction=False)\n",
    "    total = len(records)\n",
    "    \n",
    "    print(f\"Loading {total} records into Redis...\")\n",
    "    \n",
    "    for i, record in enumerate(records):\n",
    "        key = f\"{key_prefix}:{record[id_column]}\"\n",
    "        pipe.hset(key, mapping=record)\n",
    "        \n",
    "        if (i + 1) % pipe_size == 0:\n",
    "            pipe.execute()\n",
    "            if (i+1) % (pipe_size*10) == 0:  # Print less frequently\n",
    "                print(f\"Processed {i+1}/{total} records ({(i+1)/total*100:.1f}%)\")\n",
    "    \n",
    "    # Execute any remaining commands\n",
    "    pipe.execute()\n",
    "    print(f\"Loaded {total} records into Redis\")"
   ]
  },
  {
   "cell_type": "markdown",
   "metadata": {
    "id": "Bpz-BT2qBqsg"
   },
   "source": [
    "### Create index and load data to Redis"
   ]
  },
  {
   "cell_type": "code",
   "execution_count": 32,
   "metadata": {
    "colab": {
     "base_uri": "https://localhost:8080/",
     "height": 66,
     "referenced_widgets": [
      "0048c8f37d4f4c31b9cf1276587f8f7e",
      "a917dbbe36264f5fa1b327dd59d7de34",
      "29ca2efed0c546a6974126cbc45106df",
      "48416ce2c0c94b89a6aeb5be53a51b53",
      "39f0ce3086064795bb4bec3ada3cf2fa",
      "8ff2be0ab9424ed0b91e2795ee15726b",
      "8d52138428c94a51b0aba42cff3315f5",
      "a342b6df28a445929e9e66c1f025ea55",
      "ad07e3b9c7f046ea81ddd27519ca30a6",
      "180d3c11c17047af9155c3ea15f5826e",
      "1c7e2ed7c5eb4477a04b29d69bf203d9"
     ]
    },
    "id": "i3l3Jm1KVeQq",
    "outputId": "73e71e46-ce45-4188-d2fa-f03253fa9813"
   },
   "outputs": [
    {
     "name": "stdout",
     "output_type": "stream",
     "text": [
      "no index found\n",
      "Loading 12420 records into Redis...\n",
      "Processed 1000/12420 records (8.1%)\n",
      "Processed 2000/12420 records (16.1%)\n",
      "Processed 3000/12420 records (24.2%)\n",
      "Processed 4000/12420 records (32.2%)\n",
      "Processed 5000/12420 records (40.3%)\n",
      "Processed 6000/12420 records (48.3%)\n",
      "Processed 7000/12420 records (56.4%)\n",
      "Processed 8000/12420 records (64.4%)\n",
      "Processed 9000/12420 records (72.5%)\n",
      "Processed 10000/12420 records (80.5%)\n",
      "Processed 11000/12420 records (88.6%)\n",
      "Processed 12000/12420 records (96.6%)\n",
      "Loaded 12420 records into Redis\n"
     ]
    }
   ],
   "source": [
    "# clear Redis database (optional)\n",
    "redis.flushdb()\n",
    "\n",
    "# create Index\n",
    "create_redis_index(redis)\n",
    "\n",
    "# load data from Dataframe to Redis HASH\n",
    "load_dataframe(redis,df,key_prefix=\"tweet\", pipe_size=100)\n"
   ]
  },
  {
   "cell_type": "code",
   "execution_count": 33,
   "metadata": {
    "colab": {
     "base_uri": "https://localhost:8080/"
    },
    "id": "uXhqWfKgJqcv",
    "outputId": "759b291f-50df-4e97-b7f3-5de71355379c"
   },
   "outputs": [
    {
     "name": "stderr",
     "output_type": "stream",
     "text": [
      "huggingface/tokenizers: The current process just got forked, after parallelism has already been used. Disabling parallelism to avoid deadlocks...\n",
      "To disable this warning, you can either:\n",
      "\t- Avoid using `tokenizers` before the fork if possible\n",
      "\t- Explicitly set the environment variable TOKENIZERS_PARALLELISM=(true | false)\n"
     ]
    },
    {
     "name": "stdout",
     "output_type": "stream",
     "text": [
      "Unrecognized option or bad number of args for: '-h localhost -p 6379'\n"
     ]
    }
   ],
   "source": [
    "#Check how the data is stored in Redis\n",
    "!redis-cli $REDIS_CONN hgetall \"tweet:1001\""
   ]
  },
  {
   "cell_type": "markdown",
   "metadata": {
    "id": "ovtxchAGEG9t"
   },
   "source": [
    "## Query the database\n",
    "\n",
    "[Alway-on Streamlit app](https://antonum-redis-vss-streamlit-streamlit-app-p4z5th.streamlit.app/)\n",
    "\n",
    "\n",
    "Try queries like:\n",
    "\u201cOil\u201d, \u201cOil Reserves\u201d, \u201cFossil fuels\u201d\n",
    "\n",
    "Lexical Full Text search quickly runs out of matches\n",
    "\n",
    "Vector search continues to discover relevant tweets"
   ]
  },
  {
   "cell_type": "code",
   "execution_count": 34,
   "metadata": {
    "id": "koOnsz_NqUje"
   },
   "outputs": [],
   "source": [
    "user_query=\"oil price\"\n",
    "# queries to try \"oil reserve\", \"fossil fuels\""
   ]
  },
  {
   "cell_type": "code",
   "execution_count": 35,
   "metadata": {
    "colab": {
     "base_uri": "https://localhost:8080/",
     "height": 363
    },
    "id": "629GJ972qnAP",
    "outputId": "ca479f79-0215-48f7-a2d2-b4699efc7dfb"
   },
   "outputs": [
    {
     "data": {
      "text/html": [
       "<div>\n",
       "<style scoped>\n",
       "    .dataframe tbody tr th:only-of-type {\n",
       "        vertical-align: middle;\n",
       "    }\n",
       "\n",
       "    .dataframe tbody tr th {\n",
       "        vertical-align: top;\n",
       "    }\n",
       "\n",
       "    .dataframe thead th {\n",
       "        text-align: right;\n",
       "    }\n",
       "</style>\n",
       "<table border=\"1\" class=\"dataframe\">\n",
       "  <thead>\n",
       "    <tr style=\"text-align: right;\">\n",
       "      <th></th>\n",
       "      <th>id</th>\n",
       "      <th>full_text</th>\n",
       "    </tr>\n",
       "  </thead>\n",
       "  <tbody>\n",
       "    <tr>\n",
       "      <th>0</th>\n",
       "      <td>tweet:3220</td>\n",
       "      <td>The relative performance of TIPS has historica...</td>\n",
       "    </tr>\n",
       "    <tr>\n",
       "      <th>1</th>\n",
       "      <td>tweet:311</td>\n",
       "      <td>Oil Prices Rise, Fall As Russia, Saudi Arabia ...</td>\n",
       "    </tr>\n",
       "    <tr>\n",
       "      <th>2</th>\n",
       "      <td>tweet:1490</td>\n",
       "      <td>RT @Benzinga: Oil Prices Rise, Fall As Russia,...</td>\n",
       "    </tr>\n",
       "    <tr>\n",
       "      <th>3</th>\n",
       "      <td>tweet:1585</td>\n",
       "      <td>RT @Benzinga: Oil Prices Rise, Fall As Russia,...</td>\n",
       "    </tr>\n",
       "    <tr>\n",
       "      <th>4</th>\n",
       "      <td>tweet:1610</td>\n",
       "      <td>Oil Prices Rise, Fall As Russia, Saudi Arabia ...</td>\n",
       "    </tr>\n",
       "    <tr>\n",
       "      <th>5</th>\n",
       "      <td>tweet:7189</td>\n",
       "      <td>Do higher oil prices help the consumer and sma...</td>\n",
       "    </tr>\n",
       "    <tr>\n",
       "      <th>6</th>\n",
       "      <td>tweet:636</td>\n",
       "      <td>Told you Saudi Arabia will bend the knee @jimc...</td>\n",
       "    </tr>\n",
       "    <tr>\n",
       "      <th>7</th>\n",
       "      <td>tweet:5405</td>\n",
       "      <td>https://t.co/3IJBXa5wuf Historic oil price plu...</td>\n",
       "    </tr>\n",
       "    <tr>\n",
       "      <th>8</th>\n",
       "      <td>tweet:5406</td>\n",
       "      <td>Historic oil price plunge trashes sector's pro...</td>\n",
       "    </tr>\n",
       "    <tr>\n",
       "      <th>9</th>\n",
       "      <td>tweet:3865</td>\n",
       "      <td>Today's book recommendation goes for the winne...</td>\n",
       "    </tr>\n",
       "  </tbody>\n",
       "</table>\n",
       "</div>"
      ],
      "text/plain": [
       "           id                                          full_text\n",
       "0  tweet:3220  The relative performance of TIPS has historica...\n",
       "1   tweet:311  Oil Prices Rise, Fall As Russia, Saudi Arabia ...\n",
       "2  tweet:1490  RT @Benzinga: Oil Prices Rise, Fall As Russia,...\n",
       "3  tweet:1585  RT @Benzinga: Oil Prices Rise, Fall As Russia,...\n",
       "4  tweet:1610  Oil Prices Rise, Fall As Russia, Saudi Arabia ...\n",
       "5  tweet:7189  Do higher oil prices help the consumer and sma...\n",
       "6   tweet:636  Told you Saudi Arabia will bend the knee @jimc...\n",
       "7  tweet:5405  https://t.co/3IJBXa5wuf Historic oil price plu...\n",
       "8  tweet:5406  Historic oil price plunge trashes sector's pro...\n",
       "9  tweet:3865  Today's book recommendation goes for the winne..."
      ]
     },
     "metadata": {},
     "output_type": "display_data"
    }
   ],
   "source": [
    "#using Full Text Index\n",
    "q = Query(user_query)\\\n",
    "  .return_fields(\"full_text\")\n",
    "res = redis.ft(\"tweet:idx\").search(q)\n",
    "if res.total==0:\n",
    "  print(\"No matches found\")\n",
    "else:\n",
    "  res_df = pd.DataFrame([t.__dict__ for t in res.docs ]).drop(columns=[\"payload\"])\n",
    "  display(res_df)"
   ]
  },
  {
   "cell_type": "code",
   "execution_count": 36,
   "metadata": {
    "colab": {
     "base_uri": "https://localhost:8080/",
     "height": 395,
     "referenced_widgets": [
      "2b787eb1192a48c9ab08ea405fa865ac",
      "feaf60b6da3540e48caa6b3888122604",
      "48511cfc9f394fe1b0fb700d87971092",
      "be1582f10bac4946a0e1b5a7c3ad92a7",
      "43f0e22ef2474541a6ce11cecfa07201",
      "9111ec6384bb415f83136137ced6acfb",
      "e728ffc2ce5645a38c2d099eaeb2ffec",
      "2d223307734f40619c94b880bfffce85",
      "95e9f85134044563b00ce4f0c48f8746",
      "9d76fd89d35d4dc19ea04ee185dd4a00",
      "791010d025a64235bfd024f3fb4402c3"
     ]
    },
    "id": "PNZk10z9x4CD",
    "outputId": "34baa33b-1635-40b1-81c0-cc14a36223ef"
   },
   "outputs": [
    {
     "name": "stderr",
     "output_type": "stream",
     "text": [
      "Batches: 100%|\u2588\u2588\u2588\u2588\u2588\u2588\u2588\u2588\u2588\u2588| 1/1 [00:02<00:00,  2.44s/it]\n"
     ]
    },
    {
     "data": {
      "text/html": [
       "<div>\n",
       "<style scoped>\n",
       "    .dataframe tbody tr th:only-of-type {\n",
       "        vertical-align: middle;\n",
       "    }\n",
       "\n",
       "    .dataframe tbody tr th {\n",
       "        vertical-align: top;\n",
       "    }\n",
       "\n",
       "    .dataframe thead th {\n",
       "        text-align: right;\n",
       "    }\n",
       "</style>\n",
       "<table border=\"1\" class=\"dataframe\">\n",
       "  <thead>\n",
       "    <tr style=\"text-align: right;\">\n",
       "      <th></th>\n",
       "      <th>id</th>\n",
       "      <th>result_score</th>\n",
       "      <th>full_text</th>\n",
       "    </tr>\n",
       "  </thead>\n",
       "  <tbody>\n",
       "    <tr>\n",
       "      <th>0</th>\n",
       "      <td>tweet:444</td>\n",
       "      <td>0.369450628757</td>\n",
       "      <td>Would you spend $2 more a gallon of gasoline i...</td>\n",
       "    </tr>\n",
       "    <tr>\n",
       "      <th>1</th>\n",
       "      <td>tweet:11529</td>\n",
       "      <td>0.371095359325</td>\n",
       "      <td>RT @tradingcrudeoil: Crude oil closed up $0.48...</td>\n",
       "    </tr>\n",
       "    <tr>\n",
       "      <th>2</th>\n",
       "      <td>tweet:5654</td>\n",
       "      <td>0.381934225559</td>\n",
       "      <td>..and oil still 25.74 LMAO  &amp;gt;&amp;gt;&amp;gt;NO DEM...</td>\n",
       "    </tr>\n",
       "    <tr>\n",
       "      <th>3</th>\n",
       "      <td>tweet:204</td>\n",
       "      <td>0.396132230759</td>\n",
       "      <td>Bad news for #oil.  It\u2019s going to between $10 ...</td>\n",
       "    </tr>\n",
       "    <tr>\n",
       "      <th>4</th>\n",
       "      <td>tweet:9189</td>\n",
       "      <td>0.409308314323</td>\n",
       "      <td>Oil erases gains for the day in fall to $25 ht...</td>\n",
       "    </tr>\n",
       "    <tr>\n",
       "      <th>5</th>\n",
       "      <td>tweet:7189</td>\n",
       "      <td>0.429816842079</td>\n",
       "      <td>Do higher oil prices help the consumer and sma...</td>\n",
       "    </tr>\n",
       "    <tr>\n",
       "      <th>6</th>\n",
       "      <td>tweet:9330</td>\n",
       "      <td>0.430080890656</td>\n",
       "      <td>The price of Texas intermediate oil (WTI) slum...</td>\n",
       "    </tr>\n",
       "    <tr>\n",
       "      <th>7</th>\n",
       "      <td>tweet:531</td>\n",
       "      <td>0.431391596794</td>\n",
       "      <td>#OIL Sentiment ($22.50)\\r\\n\\r\\nWhat\u2019s next for...</td>\n",
       "    </tr>\n",
       "    <tr>\n",
       "      <th>8</th>\n",
       "      <td>tweet:178</td>\n",
       "      <td>0.441845178604</td>\n",
       "      <td>OH how bullish for #oil   LOL\\r\\n\\r\\n#OOTT #Oi...</td>\n",
       "    </tr>\n",
       "    <tr>\n",
       "      <th>9</th>\n",
       "      <td>tweet:6867</td>\n",
       "      <td>0.442979931831</td>\n",
       "      <td>$DXY 99.55-0.57%&amp;lt;==US Dollar lower #Fed $2....</td>\n",
       "    </tr>\n",
       "  </tbody>\n",
       "</table>\n",
       "</div>"
      ],
      "text/plain": [
       "            id    result_score  \\\n",
       "0    tweet:444  0.369450628757   \n",
       "1  tweet:11529  0.371095359325   \n",
       "2   tweet:5654  0.381934225559   \n",
       "3    tweet:204  0.396132230759   \n",
       "4   tweet:9189  0.409308314323   \n",
       "5   tweet:7189  0.429816842079   \n",
       "6   tweet:9330  0.430080890656   \n",
       "7    tweet:531  0.431391596794   \n",
       "8    tweet:178  0.441845178604   \n",
       "9   tweet:6867  0.442979931831   \n",
       "\n",
       "                                           full_text  \n",
       "0  Would you spend $2 more a gallon of gasoline i...  \n",
       "1  RT @tradingcrudeoil: Crude oil closed up $0.48...  \n",
       "2  ..and oil still 25.74 LMAO  &gt;&gt;&gt;NO DEM...  \n",
       "3  Bad news for #oil.  It\u2019s going to between $10 ...  \n",
       "4  Oil erases gains for the day in fall to $25 ht...  \n",
       "5  Do higher oil prices help the consumer and sma...  \n",
       "6  The price of Texas intermediate oil (WTI) slum...  \n",
       "7  #OIL Sentiment ($22.50)\\r\\n\\r\\nWhat\u2019s next for...  \n",
       "8  OH how bullish for #oil   LOL\\r\\n\\r\\n#OOTT #Oi...  \n",
       "9  $DXY 99.55-0.57%&lt;==US Dollar lower #Fed $2....  "
      ]
     },
     "execution_count": 36,
     "metadata": {},
     "output_type": "execute_result"
    }
   ],
   "source": [
    "# Using Vector Similarity Index\n",
    "#query_vector=text_to_embedding(user_query)\n",
    "query_vector=texts_to_embeddings([user_query])[0]\n",
    "q = Query(\"*=>[KNN 10 @text_embedding $vector AS result_score]\")\\\n",
    "                .return_fields(\"result_score\",\"full_text\")\\\n",
    "                .dialect(2)\\\n",
    "                .sort_by(\"result_score\", True)\n",
    "res = redis.ft(\"tweet:idx\").search(q, query_params={\"vector\": query_vector})\n",
    "#print(res)\n",
    "res_df = pd.DataFrame([t.__dict__ for t in res.docs ]).drop(columns=[\"payload\"])\n",
    "res_df"
   ]
  }
 ],
 "metadata": {
  "accelerator": "GPU",
  "colab": {
   "provenance": []
  },
  "gpuClass": "standard",
  "kernelspec": {
   "display_name": ".venv",
   "language": "python",
   "name": "python3"
  },
  "language_info": {
   "codemirror_mode": {
    "name": "ipython",
    "version": 3
   },
   "file_extension": ".py",
   "mimetype": "text/x-python",
   "name": "python",
   "nbconvert_exporter": "python",
   "pygments_lexer": "ipython3",
   "version": "3.11.9"
  }
 },
 "nbformat": 4,
 "nbformat_minor": 0
}