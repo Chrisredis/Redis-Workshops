{
  "cells": [
    {
      "cell_type": "markdown",
      "metadata": {},
      "source": [
        "<a href=\"https://colab.research.google.com/github/Redislabs-Solution-Architects/Redis-Workshops/blob/main/04-Large_Language_Model/04.02_Large_Language_Model_Google.ipynb\" target=\"_parent\"><img src=\"https://colab.research.google.com/assets/colab-badge.svg\" alt=\"Open In Colab\"/></a>"
      ]
    },
    {
      "cell_type": "markdown",
      "metadata": {
        "id": "7KbwXSIfMzFL"
      },
      "source": [
        "# Large Language Models\n",
        "\n",
        "![Redis](https://redis.io/wp-content/uploads/2024/04/Logotype.svg?auto=webp&quality=85,75&width=120)\n",
        "\n",
        "In this notebook you'll be sending prompts to LLMs programatically. Google's `gemini-pro` and (optionally) self-hosted in-notebook `databricks/dolly-v2`."
      ]
    },
    {
      "cell_type": "code",
      "execution_count": 1,
      "metadata": {
        "id": "RBmXNV2Qpkhe"
      },
      "outputs": [],
      "source": [
        "# Install dependencies\n",
        "!pip -q install google-generativeai\n",
        "\n",
        "# Uncomment if you installing the Dolly model locally\n",
        "# !pip -q install accelerate transformers sentence-transformers tiktoken"
      ]
    },
    {
      "cell_type": "markdown",
      "metadata": {
        "id": "CUa-ZQkNchnc"
      },
      "source": [
        "## Authenticate notebook to Google Cloud API\n",
        "You can get your Google Cloud API key at https://console.cloud.google.com/apis/credentials\n",
        "\n",
        "For security reason we recomment to restrict the key to allow only Generative Language API\n",
        "\n",
        "***Note - If you are participating in a workshop, your instructor should provide you with an API key.***"
      ]
    },
    {
      "cell_type": "code",
      "execution_count": 2,
      "metadata": {
        "colab": {
          "base_uri": "https://localhost:8080/"
        },
        "id": "Z8R4COiD08Ux",
        "outputId": "1b3f5656-49c9-4347-8d6f-9e305766b840"
      },
      "outputs": [
        {
          "name": "stdout",
          "output_type": "stream",
          "text": [
            "Provide your Google API Key: ··········\n"
          ]
        }
      ],
      "source": [
        "import getpass\n",
        "import os\n",
        "\n",
        "if \"GOOGLE_API_KEY\" not in os.environ:\n",
        "    os.environ[\"GOOGLE_API_KEY\"] = getpass.getpass(\"Provide your Google API Key: \")"
      ]
    },
    {
      "cell_type": "markdown",
      "metadata": {
        "id": "nhlFMsm88r0u"
      },
      "source": [
        "Test that we have access to Google APIs by requesting the list of models"
      ]
    },
    {
      "cell_type": "code",
      "execution_count": 3,
      "metadata": {
        "colab": {
          "base_uri": "https://localhost:8080/"
        },
        "id": "ZsHU_3zD8Tzi",
        "outputId": "4b74a112-3d85-4ce7-fe4d-9834dda94086"
      },
      "outputs": [
        {
          "name": "stdout",
          "output_type": "stream",
          "text": [
            "models/gemini-1.0-pro-latest\n",
            "models/gemini-1.0-pro\n",
            "models/gemini-pro\n",
            "models/gemini-1.0-pro-001\n",
            "models/gemini-1.0-pro-vision-latest\n",
            "models/gemini-pro-vision\n",
            "models/gemini-1.5-pro-latest\n",
            "models/gemini-1.5-pro-001\n",
            "models/gemini-1.5-pro-002\n",
            "models/gemini-1.5-pro\n",
            "models/gemini-1.5-pro-exp-0801\n",
            "models/gemini-1.5-pro-exp-0827\n",
            "models/gemini-1.5-flash-latest\n",
            "models/gemini-1.5-flash-001\n",
            "models/gemini-1.5-flash-001-tuning\n",
            "models/gemini-1.5-flash\n",
            "models/gemini-1.5-flash-exp-0827\n",
            "models/gemini-1.5-flash-002\n",
            "models/gemini-1.5-flash-8b\n",
            "models/gemini-1.5-flash-8b-001\n",
            "models/gemini-1.5-flash-8b-latest\n",
            "models/gemini-1.5-flash-8b-exp-0827\n",
            "models/gemini-1.5-flash-8b-exp-0924\n"
          ]
        }
      ],
      "source": [
        "import google.generativeai as genai\n",
        "\n",
        "for m in genai.list_models():\n",
        "  if 'generateContent' in m.supported_generation_methods:\n",
        "    print(m.name)"
      ]
    },
    {
      "cell_type": "markdown",
      "metadata": {
        "id": "c-lVNefzcxRq"
      },
      "source": [
        "***Note - This step is optional. Uncomment and run this cell if you do not have a Google Cloud API key or would like to compare results from Gemini and a self-hosted model***\n",
        "\n",
        "Initialize `databricks/dolly-v2-3b` via [HuggingFace](https://huggingface.co/databricks/dolly-v2-3b). Multiple progressively more powerful models are available, including 3b, 7b and 12b (referring to Billions of parameters). `dolly-v2-3b` is the only model in the family that would fit in the memory and GPU available in a free Google Colab instance.\n",
        "\n",
        "Loading and initializing the model can take few minutes."
      ]
    },
    {
      "cell_type": "code",
      "execution_count": 4,
      "metadata": {
        "id": "wBZG4fmnpoiR"
      },
      "outputs": [],
      "source": [
        "# Skip dolly initialization\n",
        "# import torch\n",
        "# from transformers import pipeline\n",
        "\n",
        "# dolly_completion = pipeline(model=\"databricks/dolly-v2-3b\",\n",
        "#                         torch_dtype=torch.bfloat16,\n",
        "#                         trust_remote_code=True,\n",
        "#                         device_map=\"auto\")"
      ]
    },
    {
      "cell_type": "markdown",
      "metadata": {
        "id": "c4kBXv65d2Sj"
      },
      "source": [
        "Helper function for Google Gemini model"
      ]
    },
    {
      "cell_type": "code",
      "execution_count": 5,
      "metadata": {
        "id": "73GvlwaM07b-"
      },
      "outputs": [],
      "source": [
        "model = genai.GenerativeModel('gemini-pro')\n",
        "def gemini_completion(prompt):\n",
        "    response = model.generate_content(prompt)\n",
        "    return response"
      ]
    },
    {
      "cell_type": "markdown",
      "metadata": {
        "id": "cAY1sbW-d3os"
      },
      "source": [
        "# Create the prompt\n",
        "\n",
        "Prompt contains instructions, context and the question. Feel free to experiment with the prompt and see the difference in responses from different models.\n",
        "\n",
        "News article used in this example: https://www.cnn.com/2024/10/04/entertainment/lady-gaga-bravado-harley-quinn-joker-sequel/index.html"
      ]
    },
    {
      "cell_type": "code",
      "execution_count": 6,
      "metadata": {
        "colab": {
          "base_uri": "https://localhost:8080/"
        },
        "id": "hwO9x-kypsst",
        "outputId": "12c9aeda-2464-4fa7-f0ce-9e69869bcdd3"
      },
      "outputs": [
        {
          "name": "stdout",
          "output_type": "stream",
          "text": [
            "\n",
            "Instruction: Use only information in the following context to answer the question at the end.\n",
            "If you don't know, say that you do not know.\n",
            "\n",
            "Context:  \n",
            "With Friday’s release of “Joker: Folie à Deux,” Lady Gaga will introduce audiences to Lee Quinzel, her version of the Joker’s love interest Harley Quinn from the DC comic books.\n",
            "In an interview with CNN, Gaga explained just how much she had to change her typical approach to performing for the movie, which does double duty as a a somewhat pared-down musical and a dark love story between Joker, a.k.a. Arthur Fleck (Joaquin Phoenix), and Gaga’s character.\n",
            "“All the showmanship, all the bravado of being on stage, all the things that I do as Gaga that come naturally to me, I tried to completely do away with those things,” Gaga, whose real name is Stefani Germanotta, said.\n",
            "\n",
            "The 13-time Grammy-winning singer, who also won an Oscar for her original song “Shallow” from the 2018 film “A Star is Born,” even unlearned singing techniques for her latest role.\n",
            "\n",
            "“I tried to breathe incorrectly,” she shared, later adding that she “tried not to do any vocal placement in my throat the way that I would when I’m on stage.”\n",
            "The result is a character with a breathy and understated singing technique who matches Phoenix’s similar singing style in their duets. They sync up in other ways too, as she feels quite at home with violence and arson alongside the at-times homicidal Joker, as seen in the movie.\n",
            "“Folie à Deux” is the sequel to 2019’s “Joker,” which saw Phoenix take home the Academy Award for best lead actor. The movie made over $1 billion at the global box office, which in part paved the way for this somewhat unlikely sequel.\n",
            "“Joker: Folie à Deux” is in theaters on Friday. It’s produced by Warner Bros. Pictures, which like CNN is owned by Warner Bros. Discovery.\n",
            "\n",
            "\n",
            "Question: Who plays Harley Quinn in the movie?\n",
            "\n",
            "Response:\n",
            "\n",
            "\n",
            "Gemini:\n",
            "Lady Gaga\n"
          ]
        }
      ],
      "source": [
        "# Specify the content, question, and propmt to be passed to the LLM\n",
        "context = \"\"\"\n",
        "With Friday’s release of “Joker: Folie à Deux,” Lady Gaga will introduce audiences to Lee Quinzel, her version of the Joker’s love interest Harley Quinn from the DC comic books.\n",
        "In an interview with CNN, Gaga explained just how much she had to change her typical approach to performing for the movie, which does double duty as a a somewhat pared-down musical and a dark love story between Joker, a.k.a. Arthur Fleck (Joaquin Phoenix), and Gaga’s character.\n",
        "“All the showmanship, all the bravado of being on stage, all the things that I do as Gaga that come naturally to me, I tried to completely do away with those things,” Gaga, whose real name is Stefani Germanotta, said.\n",
        "\n",
        "The 13-time Grammy-winning singer, who also won an Oscar for her original song “Shallow” from the 2018 film “A Star is Born,” even unlearned singing techniques for her latest role.\n",
        "\n",
        "“I tried to breathe incorrectly,” she shared, later adding that she “tried not to do any vocal placement in my throat the way that I would when I’m on stage.”\n",
        "The result is a character with a breathy and understated singing technique who matches Phoenix’s similar singing style in their duets. They sync up in other ways too, as she feels quite at home with violence and arson alongside the at-times homicidal Joker, as seen in the movie.\n",
        "“Folie à Deux” is the sequel to 2019’s “Joker,” which saw Phoenix take home the Academy Award for best lead actor. The movie made over $1 billion at the global box office, which in part paved the way for this somewhat unlikely sequel.\n",
        "“Joker: Folie à Deux” is in theaters on Friday. It’s produced by Warner Bros. Pictures, which like CNN is owned by Warner Bros. Discovery.\n",
        "\"\"\"\n",
        "\n",
        "question = \"Who plays Harley Quinn in the movie?\"\n",
        "\n",
        "prompt = f\"\"\"\n",
        "Instruction: Use only information in the following context to answer the question at the end.\n",
        "If you don't know, say that you do not know.\n",
        "\n",
        "Context:  {context}\n",
        "\n",
        "Question: {question}\n",
        "\n",
        "Response:\n",
        "\"\"\"\n",
        "\n",
        "print(prompt)\n",
        "\n",
        "# Uncomment if you installed the dolly model locally and would like to compare results\n",
        "#res = dolly_completion(prompt)\n",
        "#print(\"Dolly:\")\n",
        "#print(res[0]['generated_text'])\n",
        "\n",
        "res = gemini_completion(prompt)\n",
        "print(\"\\nGemini:\")\n",
        "print(res.candidates[0].content.parts[0].text)"
      ]
    },
    {
      "cell_type": "markdown",
      "metadata": {
        "id": "VBEIzCOCZUBB"
      },
      "source": [
        "## TODO:\n",
        "Play around with basic prompts to see what kind of replies you can generate.\n",
        "\n",
        "Some ideas for you to try:\n",
        "- Ask the same question as above, but without the context\n",
        "\n",
        "- Add \"Respond in French/Spanish\" to the prompt.\n",
        "\n",
        "- Add more information into the context until you hit the token limit of the model.\n",
        "\n",
        "- Check system memory: e.g. \"What was my last question?\"\n",
        "\n",
        "- Provoke hallucinations, e.g. \"What was the name of the first elephant to walk on the moon?\""
      ]
    },
    {
      "cell_type": "code",
      "execution_count": 7,
      "metadata": {
        "colab": {
          "base_uri": "https://localhost:8080/"
        },
        "id": "QWnI5NVkfa8L",
        "outputId": "5876dbfe-0b63-42ab-a846-bbd40b195a24"
      },
      "outputs": [
        {
          "name": "stdout",
          "output_type": "stream",
          "text": [
            "\n",
            "Gemini:\n",
            "Margot Robbie\n"
          ]
        }
      ],
      "source": [
        "prompt = \"Who plays Harley Quinn in the movie?\"\n",
        "\n",
        "# Uncomment if you installed the dolly model locally and would like to compare results\n",
        "# res = dolly_completion(prompt)\n",
        "# print(\"Dolly:\")\n",
        "# print(res[0]['generated_text'])\n",
        "\n",
        "res = gemini_completion(prompt)\n",
        "print(\"\\nGemini:\")\n",
        "print(res.candidates[0].content.parts[0].text)"
      ]
    }
  ],
  "metadata": {
    "accelerator": "GPU",
    "colab": {
      "gpuType": "T4",
      "provenance": []
    },
    "gpuClass": "standard",
    "kernelspec": {
      "display_name": "Python 3",
      "name": "python3"
    },
    "language_info": {
      "name": "python"
    }
  },
  "nbformat": 4,
  "nbformat_minor": 0
}
